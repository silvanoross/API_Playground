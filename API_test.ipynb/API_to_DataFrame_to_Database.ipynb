{
 "cells": [
  {
   "cell_type": "code",
   "execution_count": 11,
   "id": "5ad56503-f5bb-4e1d-ad0d-f41876d807c1",
   "metadata": {},
   "outputs": [],
   "source": [
    "# Import required libraries and dependencies\n",
    "import pandas as pd\n",
    "import os\n",
    "import requests\n",
    "from pathlib import Path\n",
    "import sqlalchemy\n",
    "from dotenv import load_dotenv\n",
    "import numpy as np"
   ]
  },
  {
   "cell_type": "code",
   "execution_count": 12,
   "id": "4850d5ac-52e1-466d-96a0-9f69776a036d",
   "metadata": {},
   "outputs": [
    {
     "data": {
      "text/plain": [
       "True"
      ]
     },
     "execution_count": 12,
     "metadata": {},
     "output_type": "execute_result"
    }
   ],
   "source": [
    "# load environment variables holding API keys\n",
    "load_dotenv()"
   ]
  },
  {
   "cell_type": "code",
   "execution_count": 13,
   "id": "91ed14c7-9f21-49f4-89ba-536fc96ae000",
   "metadata": {},
   "outputs": [],
   "source": [
    "# Create API keys\n",
    "# Key for Census\n",
    "census_api_key = os.environ[\"CENSUS_API_KEY\"]"
   ]
  },
  {
   "cell_type": "code",
   "execution_count": 16,
   "id": "02a87dde-0fda-4069-a379-061b53d5ccae",
   "metadata": {},
   "outputs": [
    {
     "data": {
      "text/plain": [
       "str"
      ]
     },
     "execution_count": 16,
     "metadata": {},
     "output_type": "execute_result"
    }
   ],
   "source": [
    "# Confirm census_api_key loaded \n",
    "type(census_api_key)"
   ]
  },
  {
   "cell_type": "code",
   "execution_count": null,
   "id": "15e59ccc-e3ab-420d-893e-1ad74977e3d1",
   "metadata": {},
   "outputs": [],
   "source": []
  }
 ],
 "metadata": {
  "kernelspec": {
   "display_name": "Python (tdev)",
   "language": "python",
   "name": "tdev"
  },
  "language_info": {
   "codemirror_mode": {
    "name": "ipython",
    "version": 3
   },
   "file_extension": ".py",
   "mimetype": "text/x-python",
   "name": "python",
   "nbconvert_exporter": "python",
   "pygments_lexer": "ipython3",
   "version": "3.9.12"
  }
 },
 "nbformat": 4,
 "nbformat_minor": 5
}
